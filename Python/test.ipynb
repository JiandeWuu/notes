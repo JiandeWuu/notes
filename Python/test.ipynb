{
 "cells": [
  {
   "cell_type": "code",
   "execution_count": 27,
   "metadata": {},
   "outputs": [],
   "source": [
    "\n",
    "a = [[0,1,0,0,1,0,1,0],\n",
    "     [1,0,1,0,0,0,0,1],\n",
    "     [0,1,0,1,0,1,1,0],\n",
    "     [0,0,1,0,1,0,0,0],\n",
    "     [1,0,0,1,0,0,0,0],\n",
    "     [0,0,1,0,0,0,1,0],\n",
    "     [1,0,1,0,0,1,0,1],\n",
    "     [0,1,0,0,0,0,1,0]]\n",
    "\n",
    "check = []\n",
    "for i in range(len(a)):\n",
    "    for j in range(len(a)):\n",
    "        if a[i][j]:\n",
    "            for k in range(len(a)):\n",
    "                if k != i and k != j and a[j][k]:\n",
    "                    s = str(i) + str(j) + str(k)\n",
    "                    if not s in check and not s[::-1] in check:\n",
    "                        check.append(s)\n",
    "                    \n"
   ]
  },
  {
   "cell_type": "code",
   "execution_count": 28,
   "metadata": {},
   "outputs": [
    {
     "data": {
      "text/plain": [
       "22"
      ]
     },
     "execution_count": 28,
     "metadata": {},
     "output_type": "execute_result"
    }
   ],
   "source": [
    "len(check)"
   ]
  },
  {
   "cell_type": "code",
   "execution_count": 29,
   "metadata": {},
   "outputs": [
    {
     "data": {
      "text/plain": [
       "['012',\n",
       " '017',\n",
       " '043',\n",
       " '062',\n",
       " '065',\n",
       " '067',\n",
       " '104',\n",
       " '106',\n",
       " '123',\n",
       " '125',\n",
       " '126',\n",
       " '176',\n",
       " '217',\n",
       " '234',\n",
       " '256',\n",
       " '265',\n",
       " '267',\n",
       " '325',\n",
       " '326',\n",
       " '406',\n",
       " '526',\n",
       " '567']"
      ]
     },
     "execution_count": 29,
     "metadata": {},
     "output_type": "execute_result"
    }
   ],
   "source": [
    "(check)"
   ]
  }
 ],
 "metadata": {
  "kernelspec": {
   "display_name": "Python 3.9.6 64-bit ('testvenv')",
   "language": "python",
   "name": "python3"
  },
  "language_info": {
   "codemirror_mode": {
    "name": "ipython",
    "version": 3
   },
   "file_extension": ".py",
   "mimetype": "text/x-python",
   "name": "python",
   "nbconvert_exporter": "python",
   "pygments_lexer": "ipython3",
   "version": "3.9.6"
  },
  "orig_nbformat": 4,
  "vscode": {
   "interpreter": {
    "hash": "911519d9d2a6bb910d202bb6a963e5f76f777f159da93d44a4a099157dae11b7"
   }
  }
 },
 "nbformat": 4,
 "nbformat_minor": 2
}
